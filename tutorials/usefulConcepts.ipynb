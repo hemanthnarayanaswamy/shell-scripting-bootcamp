{
 "cells": [
  {
   "cell_type": "markdown",
   "id": "99b26930",
   "metadata": {},
   "source": [
    "## `&&`\n",
    "* In shell, when you see `$ command one && command two`\n",
    "* The intent is to execute the command that follows the && only if the first command is successful.\n",
    "* It intends to prevent the running of the second process if the first fails."
   ]
  },
  {
   "cell_type": "markdown",
   "id": "1039dc98",
   "metadata": {},
   "source": [
    "## `$((..)) , ((..))`\n",
    "In Bash, arithmetic expressions like `$((..))` are used for calculations, but they do not execute as standalone commands. Instead, you should use `((..))` without the `$` for incrementing the variable."
   ]
  },
  {
   "cell_type": "markdown",
   "id": "9c50afaf",
   "metadata": {},
   "source": [
    "## Accessing Variables \n",
    "* Use the `$` symbol with the curly braces `{}` for clarity or when appending text.\n",
    "```bash\n",
    "echo ${name}man  # Outputs: Hemanthman\n",
    "```\n",
    "\n",
    "## Read-Only Variables \n",
    "* use `readonly` to make a variable immutable.\n",
    "```bash\n",
    "readonly name=\"Hemanth\"\n",
    "name=\"NewName\"  # Error: cannot modify a readonly variable\n",
    "```"
   ]
  },
  {
   "cell_type": "markdown",
   "id": "6c02405d",
   "metadata": {},
   "source": [
    "## Types of Brackets in Bash"
   ]
  },
  {
   "cell_type": "markdown",
   "id": "9a5ad70f",
   "metadata": {},
   "source": [
    "### 1. Parentheses `()` \n",
    "* Use `$(command)` to capture the output of a command.\n",
    "\n",
    "```bash\n",
    "result=$(ls)\n",
    "echo $result\n",
    "```\n",
    "\n",
    "* Arrays use the `()` to initiate the arrays \n",
    "```bash\n",
    "arr=(one two three)\n",
    "echo ${arr[0]}  # Outputs: one\n",
    "```"
   ]
  },
  {
   "cell_type": "markdown",
   "id": "8518aeba",
   "metadata": {},
   "source": [
    "### 2. Double Paranthese `(())` \n",
    "* Used for the Arithmetic operations \n",
    "```bash\n",
    "a=5\n",
    "((a++))  # Increment\n",
    "echo $a  # Outputs: 6\n",
    "```\n",
    "\n",
    "* The `(())` syntax is used for arithmetic evaluation, but it does not directly print the result. You need to use `echo` with `$(())` to display the result.\n",
    "```bash\n",
    "INCORRECT: echo Addition: ((a + b))\n",
    "CORRECT: echo Addition: $((a + b))\n",
    "```"
   ]
  },
  {
   "cell_type": "markdown",
   "id": "282d2fd1",
   "metadata": {},
   "source": [
    "* You are mixing Bash arithmetic `$(( ))` (which only works with integers) and `bc` (which works with floats).  \n",
    "The correct way is to use `echo` and pipe the expression to `bc` **without** `$(( ))`:\n",
    "\n",
    "```bash\n",
    "echo \"$(echo \"$1 * -1\" | bc)\"\n",
    "```\n",
    "\n",
    "Or, more simply:\n",
    "\n",
    "```bash\n",
    "echo \"$1 * -1\" | bc\n",
    "```\n",
    "\n",
    "**Explanation:**  \n",
    "- `$(( ))` is for integer arithmetic only.\n",
    "- For floating-point, use `bc` as shown above.\n",
    "\n",
    "**What's wrong:**\n",
    "- `$()` is used for command substitution, not for evaluating arithmetic expressions.\n",
    "- `\"$1 * -1\" | bc` is not a command, so `$()` will fail.\n",
    "\n",
    "**Correct usage:**\n",
    "You should use either:\n",
    "```bash\n",
    "echo \"$(echo \"$1 * -1\" | bc)\"\n",
    "```\n",
    "or simply:\n",
    "```bash\n",
    "echo \"$1 * -1\" | bc\n",
    "```\n",
    "\n",
    "**Summary:**  \n",
    "- Use `echo \"$1 * -1\" | bc` to get the opposite of a float number.  \n",
    "- Do not use `$()` around a pipe or arithmetic expression unless you are capturing the output of a command."
   ]
  },
  {
   "cell_type": "markdown",
   "id": "4f061bd5",
   "metadata": {},
   "source": [
    "### 3. Double Square Brackets `[[]]`\n",
    "* Used test expressions and build conditions.\n",
    "\n",
    "```bash\n",
    "if [[ $name == H* ]]; then\n",
    "  echo \"Name starts with H\"\n",
    "fi\n",
    "\n",
    "if [[ $name == \"Hemanth\" ]]; then\n",
    "  echo \"Hello, Hemanth!\"\n",
    "fi\n",
    "```\n"
   ]
  },
  {
   "cell_type": "markdown",
   "id": "3a4568ee",
   "metadata": {},
   "source": [
    "### 4. Curly Braces `{}`\n",
    "* Brace Expansion used to generate sequences or patterns.\n",
    "```bash\n",
    "echo file{1..3}.txt  # Outputs: file1.txt file2.txt file3.txt\n",
    "```\n",
    "* Command Grouping or Group commands to execute them in a single block.\n",
    "```bash\n",
    "{ echo \"Hello\"; echo \"World\"; }\n",
    "```"
   ]
  },
  {
   "cell_type": "markdown",
   "id": "6819ab25",
   "metadata": {},
   "source": [
    "### Comparison `==` `-eq`\n",
    "* When comparing two strings use the `==` parameter but while checking the number use the flags `-eq`"
   ]
  },
  {
   "cell_type": "markdown",
   "id": "91fa2d76",
   "metadata": {},
   "source": [
    "**Notes:**\n",
    "- Use `== 0` for arithmetic comparison inside `(( ))`.\n",
    "- `-eq` is for `[ ]` (test), not for arithmetic expansion.\n",
    "- Always quote variables if using them in strings or `[ ]`."
   ]
  },
  {
   "cell_type": "markdown",
   "id": "03e7aa87",
   "metadata": {},
   "source": [
    "}"
   ]
  }
 ],
 "metadata": {
  "kernelspec": {
   "display_name": "Python 3",
   "language": "python",
   "name": "python3"
  },
  "language_info": {
   "name": "python",
   "version": "3.12.4"
  }
 },
 "nbformat": 4,
 "nbformat_minor": 5
}
