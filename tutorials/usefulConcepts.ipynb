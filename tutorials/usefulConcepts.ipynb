{
 "cells": [
  {
   "cell_type": "markdown",
   "id": "99b26930",
   "metadata": {},
   "source": [
    "## `&&`\n",
    "* In shell, when you see `$ command one && command two`\n",
    "* The intent is to execute the command that follows the && only if the first command is successful.\n",
    "* It intends to prevent the running of the second process if the first fails."
   ]
  },
  {
   "cell_type": "markdown",
   "id": "1039dc98",
   "metadata": {},
   "source": [
    "## `$((..)) , ((..))`\n",
    "In Bash, arithmetic expressions like `$((..))` are used for calculations, but they do not execute as standalone commands. Instead, you should use `((..))` without the `$` for incrementing the variable."
   ]
  },
  {
   "cell_type": "markdown",
   "id": "6c02405d",
   "metadata": {},
   "source": []
  }
 ],
 "metadata": {
  "language_info": {
   "name": "python"
  }
 },
 "nbformat": 4,
 "nbformat_minor": 5
}
