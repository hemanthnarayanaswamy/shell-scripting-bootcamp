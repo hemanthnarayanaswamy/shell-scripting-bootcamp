{
 "cells": [
  {
   "cell_type": "markdown",
   "metadata": {},
   "source": [
    "* The terms \"shell\" and \"bash\" are used interchangeably. But there is a subtle difference between the two.\n",
    "* The term \"shell\" refers to a program that provides a command-line interface for interacting with an operating system. Bash (Bourne-Again SHell) is one of the most commonly used Unix/Linux shells and is the default shell in many Linux distributions.\n",
    "* BASH, Z-shell(zsh), C-shell"
   ]
  },
  {
   "cell_type": "markdown",
   "metadata": {},
   "source": [
    "# <center>Introduction</center>"
   ]
  },
  {
   "cell_type": "markdown",
   "metadata": {},
   "source": [
    "In order to execute/run a bash script file with the bash shell interpreter, the first line of a script file must indicate the absolute path to the bash\n",
    "executable:\n",
    "`#!/bin/bash`\n",
    "* This is also called a <b>Shebang.</b>"
   ]
  },
  {
   "cell_type": "markdown",
   "metadata": {},
   "source": [
    "## <center> Bash Variables </center>"
   ]
  },
  {
   "cell_type": "markdown",
   "metadata": {},
   "source": [
    "* To assign a value to a variable, all you need to do is use the = sign: `name=\"DevDojo\"`\n",
    "* you can not have spaces before and after the `=` sign.\n",
    "* To access the variable, you have to use the `$` and reference it as shown below: `echo $name`\n",
    "* Wrapping the variable name between curly brackets is considered a good practice: `echo ${name}`"
   ]
  },
  {
   "cell_type": "code",
   "execution_count": 9,
   "metadata": {
    "vscode": {
     "languageId": "shellscript"
    }
   },
   "outputs": [
    {
     "name": "stdout",
     "output_type": "stream",
     "text": [
      "\"hello hemanth\"\n"
     ]
    }
   ],
   "source": [
    "#!/bin/bash\n",
    "# use ! while executing the command inside the .ipynb files\n",
    "name='hemanth'\n",
    "\n",
    "!echo \"hello $name\""
   ]
  },
  {
   "cell_type": "markdown",
   "metadata": {},
   "source": []
  }
 ],
 "metadata": {
  "kernelspec": {
   "display_name": "Python 3",
   "language": "python",
   "name": "python3"
  },
  "language_info": {
   "codemirror_mode": {
    "name": "ipython",
    "version": 3
   },
   "file_extension": ".py",
   "mimetype": "text/x-python",
   "name": "python",
   "nbconvert_exporter": "python",
   "pygments_lexer": "ipython3",
   "version": "3.12.4"
  }
 },
 "nbformat": 4,
 "nbformat_minor": 2
}
