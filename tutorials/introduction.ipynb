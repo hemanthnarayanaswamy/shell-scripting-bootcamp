{
 "cells": [
  {
   "cell_type": "markdown",
   "metadata": {},
   "source": [
    "* The terms \"shell\" and \"bash\" are used interchangeably. But there is a subtle difference between the two.\n",
    "* The term \"shell\" refers to a program that provides a command-line interface for interacting with an operating system. Bash (Bourne-Again SHell) is one of the most commonly used Unix/Linux shells and is the default shell in many Linux distributions.\n",
    "* BASH, Z-shell(zsh), C-shell\n",
    "\n",
    "`https://hangar118.sdf.org/p/bash-scripting-guide/special_chars.html`"
   ]
  },
  {
   "cell_type": "markdown",
   "metadata": {},
   "source": [
    "# <center>Introduction</center>"
   ]
  },
  {
   "cell_type": "markdown",
   "metadata": {},
   "source": [
    "In order to execute/run a bash script file with the bash shell interpreter, the first line of a script file must indicate the absolute path to the bash\n",
    "executable:\n",
    "`#!/bin/bash`\n",
    "* This is also called a <b>Shebang.</b>"
   ]
  },
  {
   "cell_type": "markdown",
   "metadata": {},
   "source": [
    "## <center> Bash Variables </center>"
   ]
  },
  {
   "cell_type": "markdown",
   "metadata": {},
   "source": [
    "* To assign a value to a variable, all you need to do is use the = sign: `name=\"DevDojo\"`\n",
    "* you can not have spaces before and after the `=` sign.\n",
    "* To access the variable, you have to use the `$` and reference it as shown below: `echo $name`\n",
    "* Wrapping the variable name between curly brackets is considered a good practice: `echo ${name}`"
   ]
  },
  {
   "cell_type": "code",
   "execution_count": 9,
   "metadata": {
    "vscode": {
     "languageId": "shellscript"
    }
   },
   "outputs": [
    {
     "name": "stdout",
     "output_type": "stream",
     "text": [
      "\"hello hemanth\"\n"
     ]
    }
   ],
   "source": [
    "#!/bin/bash\n",
    "# use ! while executing the command inside the .ipynb files\n",
    "name='hemanth'\n",
    "\n",
    "!echo \"hello $name\""
   ]
  },
  {
   "cell_type": "markdown",
   "metadata": {},
   "source": [
    "## <center> Bash Input </center>\n",
    "* WE need to use a `read` to perform or accept user input \n",
    "\n",
    "```bash\n",
    "#!/bin/bash\n",
    "echo \"What is your name?\"\n",
    "read name    # Takes user input and store it inside the variable name\n",
    "echo \"Hi there $name\" # which can be reused when necessary\n",
    "echo \"Welcome to DevDojo!\"\n",
    "```"
   ]
  },
  {
   "cell_type": "markdown",
   "metadata": {},
   "source": [
    "* To Reduce the code even further \n",
    "* `read -p`, the read command used with -p flag will print a message before prompting the user for their input:\n",
    "* Run the execises [userInput](../practice_execises/0-userInput.sh) \n",
    "```bash\n",
    "#!/bin/bash\n",
    "read -p \"What is your name? \" name\n",
    "echo \"Hi there $name\"\n",
    "echo \"Welcome to DevDojo!\"\n",
    "```"
   ]
  },
  {
   "cell_type": "markdown",
   "metadata": {},
   "source": [
    "## <center> Bash Arguments </center>\n",
    "* You can pass arguments to your shell script when you execute it. To pass an argument, you just need to write it right after the name of your script.\n",
    "* `./dev.sh your_argument1 your_argument2....`\n",
    "\n",
    "1. we can then use `$1` in order to reference the first argument that we specified. If we pass a second argument, it would be available as `$2` and so on.\n",
    "2. To reference all arguments, you can use `$@`\n",
    "[See Example here](../practice_execises/0-passArguments.sh)"
   ]
  },
  {
   "cell_type": "code",
   "execution_count": 7,
   "metadata": {
    "vscode": {
     "languageId": "shellscript"
    }
   },
   "outputs": [
    {
     "name": "stdout",
     "output_type": "stream",
     "text": [
      "\"The first Argument passed is 1\"\n",
      "\"the Second Argument passes is 2\"\n",
      "\"All the Arguments are: $@\"\n"
     ]
    }
   ],
   "source": [
    "!echo \"The first Argument passed is $1\"\n",
    "!echo \"the Second Argument passes is $2\"\n",
    "\n",
    "!echo \"All the Arguments are: $@\""
   ]
  },
  {
   "cell_type": "markdown",
   "metadata": {},
   "source": [
    "# <center> Bash Arrays </center>\n",
    "* You can initialize an array by assigning values divided by space and enclosed in `()`\n",
    "```bash\n",
    "my_array=(\"value 1\" \"value 2\" \"value 3\" \"value 4\")\n",
    "```\n",
    "* To access the elements in the array, you need to reference them by their numeric index.\n",
    "* <b> Keep in mind that you need to use curly brackets. </b>\n",
    "\n",
    "```bash\n",
    "echo ${my_array[1]}\n",
    "# This would return the last element: value 2\n",
    "echo ${my_array[-1]}\n",
    "# This would access the last element: value 4\n",
    "```"
   ]
  },
  {
   "cell_type": "markdown",
   "metadata": {},
   "source": [
    "* As with command line arguments using `@` will return all elements in the array\n",
    "```bash\n",
    "echo ${my_array[@]}"
   ]
  },
  {
   "cell_type": "markdown",
   "metadata": {},
   "source": [
    "* Prepending the array with a hash sign `(#)` would output the total number of elements in the array\n",
    "```bash\n",
    "echo ${#my_array[@]}\n",
    "```\n"
   ]
  },
  {
   "cell_type": "markdown",
   "metadata": {},
   "source": [
    "# <center>Bash Conditional Expression</center>\n",
    "*  conditional expressions are used by the `[[` compound command and the `[` built-in commands to test file attributes and perform string and arithmetic comparisons."
   ]
  },
  {
   "cell_type": "markdown",
   "metadata": {},
   "source": [
    "## File expressions\n",
    "\n",
    "* True if file exists.\n",
    "\n",
    "```bash\n",
    "[[ -a ${file} ]]\n",
    "```\n",
    "\n",
    "* True if file exists and is a directory.\n",
    "\n",
    "```bash\n",
    "[[ -d ${file} ]]\n",
    "```\n",
    "\n",
    "* True if file exists and is a regular file.\n",
    "\n",
    "```bash\n",
    "[[ -f ${file} ]]\n",
    "```\n",
    "\n",
    "* True if file exists and has a size greater than zero.\n",
    "\n",
    "```bash\n",
    "[[ -s ${file} ]]\n",
    "```\n"
   ]
  },
  {
   "cell_type": "markdown",
   "metadata": {},
   "source": [
    "## String expressions\n",
    "\n",
    "* True if the shell variable varname is set (has been assigned a value).\n",
    "\n",
    "```bash\n",
    "[[ -v varname ]]\n",
    "```\n",
    "\n",
    "> Here, `varname` is the name of the variable. The `-v` operator expects a variable name as an argument rather than a value, so if you pass `${varname}` instead of `varname`, the expression will return false.\n",
    "\n",
    "* True if the strings are equal. `=` should be used with the test command for POSIX conformance. When used with the `[[` command, this performs pattern matching as described above (Compound Commands).\n",
    "\n",
    "```bash\n",
    "[[ ${string1} == ${string2} ]]\n",
    "```\n",
    "\n",
    "* True if the strings are not equal.\n",
    "\n",
    "```bash\n",
    "[[ ${string1} != ${string2} ]]\n",
    "```\n",
    "\n",
    "* True if string1 sorts before string2 lexicographically.\n",
    "\n",
    "```bash\n",
    "[[ ${string1} < ${string2} ]]\n",
    "```\n",
    "\n",
    "* True if string1 sorts after string2 lexicographically.\n",
    "\n",
    "```bash\n",
    "[[ ${string1} > ${string2} ]]\n",
    "```"
   ]
  },
  {
   "cell_type": "markdown",
   "metadata": {},
   "source": [
    "## Arithmetic operators\n",
    "\n",
    "* Returns true if the numbers are **equal**\n",
    "\n",
    "```bash\n",
    "[[ ${arg1} -eq ${arg2} ]]\n",
    "```\n",
    "\n",
    "* Returns true if the numbers are **not equal**\n",
    "\n",
    "```bash\n",
    "[[ ${arg1} -ne ${arg2} ]]\n",
    "```\n",
    "\n",
    "* Returns true if arg1 is **less than** arg2\n",
    "\n",
    "```bash\n",
    "[[ ${arg1} -lt ${arg2} ]]\n",
    "```\n",
    "\n",
    "* Returns true if arg1 is **less than or equal** arg2\n",
    "\n",
    "```bash\n",
    "[[ ${arg1} -le ${arg2} ]]\n",
    "```\n",
    "\n",
    "* Returns true if arg1 is **greater than** arg2\n",
    "\n",
    "```bash\n",
    "[[ ${arg1} -gt ${arg2} ]]\n",
    "```\n",
    "\n",
    "* Returns true if arg1 is **greater than or equal** arg2\n",
    "\n",
    "```bash\n",
    "[[ ${arg1} -ge ${arg2} ]]\n",
    "```\n",
    "\n",
    "As a side note, arg1 and arg2 may be positive or negative integers.\n",
    "\n",
    "As with other programming languages you can use `AND` & `OR` conditions:\n",
    "\n",
    "```bash\n",
    "[[ test_case_1 ]] && [[ test_case_2 ]] # And\n",
    "[[ test_case_1 ]] || [[ test_case_2 ]] # Or\n",
    "```"
   ]
  },
  {
   "cell_type": "markdown",
   "metadata": {},
   "source": [
    "## Exit status operators\n",
    "\n",
    "* returns true if the command was successful without any errors\n",
    "\n",
    "```bash\n",
    "[[ $? -eq 0 ]]\n",
    "```\n",
    "\n",
    "* returns true if the command was not successful or had errors\n",
    "\n",
    "```bash\n",
    "[[ $? -gt 0 ]]\n",
    "```"
   ]
  },
  {
   "cell_type": "markdown",
   "metadata": {},
   "source": [
    "# <center> Bash Conditionals </center>\n",
    "* We can now use them with standard conditional statements like if, if-else and switch case statements.\n"
   ]
  },
  {
   "cell_type": "markdown",
   "metadata": {},
   "source": [
    "## If statement\n",
    "* The formate of an `if` statement in Bash is as follows: \n",
    "\n",
    "```bash\n",
    "if [[ some_test ]]\n",
    "then\n",
    "    <commands>\n",
    "fi\n",
    "```"
   ]
  },
  {
   "cell_type": "code",
   "execution_count": null,
   "metadata": {},
   "outputs": [],
   "source": []
  }
 ],
 "metadata": {
  "kernelspec": {
   "display_name": "Python 3",
   "language": "python",
   "name": "python3"
  },
  "language_info": {
   "codemirror_mode": {
    "name": "ipython",
    "version": 3
   },
   "file_extension": ".py",
   "mimetype": "text/x-python",
   "name": "python",
   "nbconvert_exporter": "python",
   "pygments_lexer": "ipython3",
   "version": "3.12.4"
  }
 },
 "nbformat": 4,
 "nbformat_minor": 2
}
