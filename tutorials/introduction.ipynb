{
 "cells": [
  {
   "cell_type": "markdown",
   "metadata": {},
   "source": [
    "* The terms \"shell\" and \"bash\" are used interchangeably. But there is a subtle difference between the two.\n",
    "* The term \"shell\" refers to a program that provides a command-line interface for interacting with an operating system. Bash (Bourne-Again SHell) is one of the most commonly used Unix/Linux shells and is the default shell in many Linux distributions.\n",
    "* BASH, Z-shell(zsh), C-shell\n",
    "\n",
    "`https://hangar118.sdf.org/p/bash-scripting-guide/special_chars.html`"
   ]
  },
  {
   "cell_type": "markdown",
   "metadata": {},
   "source": [
    "# <center>Introduction</center>"
   ]
  },
  {
   "cell_type": "markdown",
   "metadata": {},
   "source": [
    "In order to execute/run a bash script file with the bash shell interpreter, the first line of a script file must indicate the absolute path to the bash\n",
    "executable:\n",
    "`#!/bin/bash`\n",
    "* This is also called a <b>Shebang.</b>"
   ]
  },
  {
   "cell_type": "markdown",
   "metadata": {},
   "source": [
    "## <center> Bash Variables </center>"
   ]
  },
  {
   "cell_type": "markdown",
   "metadata": {},
   "source": [
    "* To assign a value to a variable, all you need to do is use the = sign: `name=\"DevDojo\"`\n",
    "* you can not have spaces before and after the `=` sign.\n",
    "* To access the variable, you have to use the `$` and reference it as shown below: `echo $name`\n",
    "* Wrapping the variable name between curly brackets is considered a good practice: `echo ${name}`"
   ]
  },
  {
   "cell_type": "code",
   "execution_count": 9,
   "metadata": {
    "vscode": {
     "languageId": "shellscript"
    }
   },
   "outputs": [
    {
     "name": "stdout",
     "output_type": "stream",
     "text": [
      "\"hello hemanth\"\n"
     ]
    }
   ],
   "source": [
    "#!/bin/bash\n",
    "# use ! while executing the command inside the .ipynb files\n",
    "name='hemanth'\n",
    "\n",
    "!echo \"hello $name\""
   ]
  },
  {
   "cell_type": "markdown",
   "metadata": {},
   "source": [
    "* Semi-colons `;` and newlines separate synchronous commands from each other. \n",
    "* Use a semi-colon or a new line to end a command and begin a new one. \n",
    "* The first command will be executed synchronously, which means that Bash will wait for it to end before running the next command."
   ]
  },
  {
   "cell_type": "markdown",
   "metadata": {},
   "source": [
    "## <center> Bash Input </center>\n",
    "* WE need to use a `read` to perform or accept user input \n",
    "\n",
    "```bash\n",
    "#!/bin/bash\n",
    "echo \"What is your name?\"\n",
    "read name    # Takes user input and store it inside the variable name\n",
    "echo \"Hi there $name\" # which can be reused when necessary\n",
    "echo \"Welcome to DevDojo!\"\n",
    "```"
   ]
  },
  {
   "cell_type": "markdown",
   "metadata": {},
   "source": [
    "* To Reduce the code even further \n",
    "* `read -p`, the read command used with -p flag will print a message before prompting the user for their input:\n",
    "* Run the execises [userInput](../practice_execises/0-userInput.sh) \n",
    "```bash\n",
    "#!/bin/bash\n",
    "read -p \"What is your name? \" name\n",
    "echo \"Hi there $name\"\n",
    "echo \"Welcome to DevDojo!\"\n",
    "```"
   ]
  },
  {
   "cell_type": "markdown",
   "metadata": {},
   "source": [
    "## <center> Bash Arguments </center>\n",
    "* You can pass arguments to your shell script when you execute it. To pass an argument, you just need to write it right after the name of your script.\n",
    "* `./dev.sh your_argument1 your_argument2....`\n",
    "\n",
    "1. we can then use `$1` in order to reference the first argument that we specified. If we pass a second argument, it would be available as `$2` and so on.\n",
    "2. To reference all arguments, you can use `$@`\n",
    "[See Example here](../practice_execises/0-passArguments.sh)"
   ]
  },
  {
   "cell_type": "code",
   "execution_count": 7,
   "metadata": {
    "vscode": {
     "languageId": "shellscript"
    }
   },
   "outputs": [
    {
     "name": "stdout",
     "output_type": "stream",
     "text": [
      "\"The first Argument passed is 1\"\n",
      "\"the Second Argument passes is 2\"\n",
      "\"All the Arguments are: $@\"\n"
     ]
    }
   ],
   "source": [
    "!echo \"The first Argument passed is $1\"\n",
    "!echo \"the Second Argument passes is $2\"\n",
    "\n",
    "!echo \"All the Arguments are: $@\""
   ]
  },
  {
   "cell_type": "markdown",
   "metadata": {},
   "source": [
    "# <center> Bash Arrays </center>\n",
    "* You can initialize an array by assigning values divided by space and enclosed in `()`\n",
    "```bash\n",
    "my_array=(\"value 1\" \"value 2\" \"value 3\" \"value 4\")\n",
    "```\n",
    "* To access the elements in the array, you need to reference them by their numeric index.\n",
    "* <b> Keep in mind that you need to use curly brackets. </b>\n",
    "\n",
    "```bash\n",
    "echo ${my_array[1]}\n",
    "# This would return the last element: value 2\n",
    "echo ${my_array[-1]}\n",
    "# This would access the last element: value 4\n",
    "```"
   ]
  },
  {
   "cell_type": "markdown",
   "metadata": {},
   "source": [
    "* As with command line arguments using `@` will return all elements in the array\n",
    "```bash\n",
    "echo ${my_array[@]}"
   ]
  },
  {
   "cell_type": "markdown",
   "metadata": {},
   "source": [
    "* Prepending the array with a hash sign `(#)` would output the total number of elements in the array\n",
    "```bash\n",
    "echo ${#my_array[@]}\n",
    "```\n"
   ]
  },
  {
   "cell_type": "markdown",
   "metadata": {},
   "source": [
    "# <center>Bash Conditional Expression</center>\n",
    "*  conditional expressions are used by the `[[` compound command and the `[` built-in commands to test file attributes and perform string and arithmetic comparisons."
   ]
  },
  {
   "cell_type": "markdown",
   "metadata": {},
   "source": [
    "## File expressions\n",
    "\n",
    "* True if file exists.\n",
    "\n",
    "```bash\n",
    "[[ -a ${file} ]]\n",
    "```\n",
    "\n",
    "* True if file exists and is a directory.\n",
    "\n",
    "```bash\n",
    "[[ -d ${file} ]]\n",
    "```\n",
    "\n",
    "* True if file exists and is a regular file.\n",
    "\n",
    "```bash\n",
    "[[ -f ${file} ]]\n",
    "```\n",
    "\n",
    "* True if file exists and has a size greater than zero.\n",
    "\n",
    "```bash\n",
    "[[ -s ${file} ]]\n",
    "```\n"
   ]
  },
  {
   "cell_type": "markdown",
   "metadata": {},
   "source": [
    "## String expressions\n",
    "\n",
    "* True if the shell variable varname is set (has been assigned a value).\n",
    "\n",
    "```bash\n",
    "[[ -v varname ]]\n",
    "```\n",
    "\n",
    "> Here, `varname` is the name of the variable. The `-v` operator expects a variable name as an argument rather than a value, so if you pass `${varname}` instead of `varname`, the expression will return false.\n",
    "\n",
    "* True if the strings are equal. `=` should be used with the test command for POSIX conformance. When used with the `[[` command, this performs pattern matching as described above (Compound Commands).\n",
    "\n",
    "```bash\n",
    "[[ ${string1} == ${string2} ]]\n",
    "```\n",
    "\n",
    "* True if the strings are not equal.\n",
    "\n",
    "```bash\n",
    "[[ ${string1} != ${string2} ]]\n",
    "```\n",
    "\n",
    "* True if string1 sorts before string2 lexicographically.\n",
    "\n",
    "```bash\n",
    "[[ ${string1} < ${string2} ]]\n",
    "```\n",
    "\n",
    "* True if string1 sorts after string2 lexicographically.\n",
    "\n",
    "```bash\n",
    "[[ ${string1} > ${string2} ]]\n",
    "```"
   ]
  },
  {
   "cell_type": "markdown",
   "metadata": {},
   "source": [
    "## Arithmetic operators\n",
    "\n",
    "* Returns true if the numbers are **equal**\n",
    "\n",
    "```bash\n",
    "[[ ${arg1} -eq ${arg2} ]]\n",
    "```\n",
    "\n",
    "* Returns true if the numbers are **not equal**\n",
    "\n",
    "```bash\n",
    "[[ ${arg1} -ne ${arg2} ]]\n",
    "```\n",
    "\n",
    "* Returns true if arg1 is **less than** arg2\n",
    "\n",
    "```bash\n",
    "[[ ${arg1} -lt ${arg2} ]]\n",
    "```\n",
    "\n",
    "* Returns true if arg1 is **less than or equal** arg2\n",
    "\n",
    "```bash\n",
    "[[ ${arg1} -le ${arg2} ]]\n",
    "```\n",
    "\n",
    "* Returns true if arg1 is **greater than** arg2\n",
    "\n",
    "```bash\n",
    "[[ ${arg1} -gt ${arg2} ]]\n",
    "```\n",
    "\n",
    "* Returns true if arg1 is **greater than or equal** arg2\n",
    "\n",
    "```bash\n",
    "[[ ${arg1} -ge ${arg2} ]]\n",
    "```\n",
    "\n",
    "As a side note, arg1 and arg2 may be positive or negative integers.\n",
    "\n",
    "As with other programming languages you can use `AND` & `OR` conditions:\n",
    "\n",
    "```bash\n",
    "[[ test_case_1 ]] && [[ test_case_2 ]] # And\n",
    "[[ test_case_1 ]] || [[ test_case_2 ]] # Or\n",
    "```"
   ]
  },
  {
   "cell_type": "markdown",
   "metadata": {},
   "source": [
    "## Exit status operators\n",
    "\n",
    "* returns true if the command was successful without any errors\n",
    "\n",
    "```bash\n",
    "[[ $? -eq 0 ]]\n",
    "```\n",
    "\n",
    "* returns true if the command was not successful or had errors\n",
    "\n",
    "```bash\n",
    "[[ $? -gt 0 ]]\n",
    "```"
   ]
  },
  {
   "cell_type": "markdown",
   "metadata": {},
   "source": [
    "# <center> Bash Conditionals </center>\n",
    "* We can now use them with standard conditional statements like if, if-else and switch case statements.\n"
   ]
  },
  {
   "cell_type": "markdown",
   "metadata": {},
   "source": [
    "## If statement\n",
    "* The formate of an `if` statement in Bash is as follows: \n",
    "\n",
    "```bash\n",
    "if [[ some_test ]]\n",
    "then\n",
    "    <commands>\n",
    "fi\n",
    "```\n",
    "\n",
    "```bash\n",
    "#!/bin/bash\n",
    "\n",
    "# Bash if statement example\n",
    "\n",
    "read -p \"What is your name? \" name\n",
    "\n",
    "if [[ -z ${name} ]]\n",
    "then\n",
    "    echo \"Please enter your name!\"\n",
    "fi\n",
    "```\n",
    "\n",
    "* Here is another example of an `if` statement which would check your current `User ID` and would not allow you to run the script as the `root` user:\n",
    "\n",
    "```bash\n",
    "#!/bin/bash\n",
    "\n",
    "if (( $EUID == 0 )); then\n",
    "    echo \"Please do not run as root\"\n",
    "    exit\n",
    "fi\n",
    "```\n",
    "\n",
    "If you put this on top of your script it would exit in case that the EUID is 0 and would not execute the rest of the script. This was discussed on [the DigitalOcean community forum](https://www.digitalocean.com/community/questions/how-to-check-if-running-as-root-in-a-bash-script).\n"
   ]
  },
  {
   "cell_type": "markdown",
   "metadata": {},
   "source": [
    "* You can also test multiple conditions with an `if` statement. In this example we want to make sure that the user is neither the admin user nor the root user to ensure the script is incapable of causing too much damage. We'll use the `or` operator in this example, noted by `||`. This means that either of the conditions needs to be true. If we used the `and` operator of `&&` then both conditions would need to be true.\n",
    "\n",
    "```bash\n",
    "#!/bin/bash\n",
    "\n",
    "admin=\"devdojo\"\n",
    "\n",
    "read -p \"Enter your username? \" username\n",
    "\n",
    "# Check if the username provided is the admin\n",
    "\n",
    "if [[ \"${username}\" != \"${admin}\" ]] && [[ $EUID != 0 ]] ; then\n",
    "    echo \"You are not the admin or root user, but please be safe!\"\n",
    "else\n",
    "    echo \"You are the admin user! This could be very destructive!\"\n",
    "fi\n",
    "```\n",
    "\n",
    "* You can also have a array of users who are eligible to run the script or some sort of a password to check and run the complete script can also be a usecase. "
   ]
  },
  {
   "cell_type": "markdown",
   "metadata": {},
   "source": [
    "* If you have multiple conditions and scenarios, then can use `elif` statement with `if` and `else` statements.\n",
    "\n",
    "```bash\n",
    "#!/bin/bash\n",
    "\n",
    "read -p \"Enter a number: \" num\n",
    "\n",
    "if [[ $num -gt 0 ]] ; then\n",
    "    echo \"The number is positive\"\n",
    "elif [[ $num -lt 0 ]] ; then\n",
    "    echo \"The number is negative\"\n",
    "else\n",
    "    echo \"The number is 0\"\n",
    "fi\n",
    "```"
   ]
  },
  {
   "cell_type": "markdown",
   "metadata": {},
   "source": [
    "## Switch case Statements \n",
    "* The syntax of the Bash case statement consists of the “case” keyword followed by the value to be matched, the “in” keyword, and one or more patterns with corresponding code blocks enclosed in “;;” statements:\n",
    "\n",
    "```bash\n",
    "case EXPRESSION in\n",
    "\n",
    "  PATTERN_1)\n",
    "    STATEMENTS\n",
    "    ;;\n",
    "\n",
    "  PATTERN_2)\n",
    "    STATEMENTS\n",
    "    ;;\n",
    "\n",
    "  PATTERN_N)\n",
    "    STATEMENTS\n",
    "    ;;\n",
    "\n",
    "  *)\n",
    "    STATEMENTS\n",
    "    ;;\n",
    "esac\n",
    "```\n",
    "* You can use multiple patterns separated by the `|` operator. The `)` operator terminates a pattern list.\n",
    "* Each clause must be terminated with `;;`\n",
    "* `;;` is only used in case constructs to indicate that the end of an alternative. "
   ]
  },
  {
   "cell_type": "markdown",
   "metadata": {},
   "source": [
    "# <center> Bash Loops </center>\n",
    "* With Bash you can use `for` loops, `while` loops, and `until` loops."
   ]
  },
  {
   "cell_type": "markdown",
   "metadata": {},
   "source": [
    "## For loops\n",
    "* Here is the syntax \n",
    "```bash\n",
    "for var in ${list}\n",
    "do\n",
    "    your_commands\n",
    "done\n",
    "```\n",
    "<b>Example</b>\n",
    "```bash\n",
    "#!/bin/bash\n",
    "\n",
    "users=\"devdojo bobby tony\"\n",
    "\n",
    "for user in ${users}\n",
    "do\n",
    "    echo \"${user}\"\n",
    "done\n",
    "```\n",
    "\n",
    "* You can also use `for` to process a series of numbers. For example here is one way to loop through from 1 to 10:\n",
    "\n",
    "```bash\n",
    "#!/bin/bash\n",
    "\n",
    "for num in {1..10}\n",
    "do\n",
    "    echo ${num}\n",
    "done\n",
    "```"
   ]
  },
  {
   "cell_type": "markdown",
   "metadata": {},
   "source": [
    "## While Loops\n",
    "* The structure of a while loop is quite similar to the `for` loop:\n",
    "\n",
    "```bash\n",
    "while [[ your_condition ]]\n",
    "do\n",
    "    your_commands\n",
    "done\n",
    "```\n",
    "* Here is an example of a `while` loop:\n",
    "\n",
    "```bash\n",
    "#!/bin/bash\n",
    "\n",
    "counter=1\n",
    "while [[ $counter -le 10 ]]\n",
    "do\n",
    "    echo $counter\n",
    "    ((counter++))\n",
    "done\n",
    "```"
   ]
  },
  {
   "cell_type": "markdown",
   "metadata": {},
   "source": [
    "## Until Loops\n",
    "\n",
    "The difference between `until` and `while` loops is that the `until` loop will run the commands within the loop until the condition becomes true.\n",
    "\n",
    "Structure:\n",
    "\n",
    "```bash\n",
    "until [[ your_condition ]]\n",
    "do\n",
    "    your_commands\n",
    "done\n",
    "```\n",
    "\n",
    "Example:\n",
    "\n",
    "```bash\n",
    "#!/bin/bash\n",
    "\n",
    "count=1\n",
    "until [[ $count -gt 10 ]]\n",
    "do\n",
    "    echo $count\n",
    "    ((count++))\n",
    "done\n",
    "```"
   ]
  },
  {
   "cell_type": "markdown",
   "metadata": {},
   "source": [
    "## Continue and Break\n",
    "As with other languages, you can use `continue` and `break` with your bash scripts as well:\n",
    "\n",
    "* `continue` tells your bash script to stop the current iteration of the loop and start the next iteration.\n",
    "\n",
    "```bash\n",
    "#!/bin/bash\n",
    "\n",
    "for i in 1 2 3 4 5\n",
    "do\n",
    "    if [[ $i -eq 2 ]] \n",
    "    then\n",
    "        echo \"skipping number 2\"\n",
    "        continue\n",
    "    fi\n",
    "    echo \"i is equal to $i\"\n",
    "done\n",
    "```\n",
    "We can also use continue command in similar way to break command for controlling multiple loops.\n",
    "\n",
    "* `break` tells your bash script to end the loop straight away.\n",
    "\n",
    "```bash\n",
    "#!/bin/bash\n",
    "\n",
    "num=1\n",
    "while [[ $num -lt 10 ]] \n",
    "do\n",
    "    if [[ $num -eq 5 ]] \n",
    "    then\n",
    "        break\n",
    "    fi\n",
    "    ((num++))\n",
    "done\n",
    "echo \"Loop completed\"\n",
    "```\n",
    "\n",
    "- We can also use break command with multiple loops. If we want to exit out of current working loop whether inner or outer loop, we simply use break but if we are in inner loop & want to exit out of outer loop, we use break 2.\n",
    "\n",
    "```bash\n",
    "#!/bin/bash\n",
    "\n",
    "for (( a = 1; a < 10; a++ ))\n",
    "do\n",
    "    echo \"outer loop: $a\"\n",
    "    for (( b = 1; b < 100; b++ ))\n",
    "    do\n",
    "        if [[ $b -gt 5 ]] \n",
    "        then\n",
    "            break 2\n",
    "        fi\n",
    "        echo \"Inner loop: $b \"\n",
    "    done\n",
    "done\n",
    "```"
   ]
  },
  {
   "cell_type": "markdown",
   "metadata": {},
   "source": [
    "# <center> Bash Functions </center>\n",
    "* Functions are a great way to reuse code. The structure of a function in bash is quite similar to most languages:\n",
    "\n",
    "```bash\n",
    "function function_name() {\n",
    "    your_commands\n",
    "}\n",
    "```\n",
    "\n",
    "You can also omit the `function` keyword at the beginning, which would also work:\n",
    "\n",
    "```bash\n",
    "function_name() {\n",
    "    your_commands\n",
    "}\n",
    "```\n",
    "\n",
    ">{notice} One thing to keep in mind is that you should not add the parenthesis when you call the function.\n",
    "\n",
    "Passing arguments to a function work in the same way as passing arguments to a script:\n",
    "\n",
    "```bash\n",
    "#!/bin/bash\n",
    "\n",
    "function hello() {\n",
    "    echo \"Hello $1!\"\n",
    "}\n",
    "\n",
    "hello DevDojo\n",
    "```"
   ]
  },
  {
   "cell_type": "markdown",
   "metadata": {},
   "source": [
    "Functions should have comments mentioning description, global variables, arguments, outputs, and returned values, if applicable\n",
    "\n",
    "```bash\n",
    "#######################################\n",
    "# Description: Hello function\n",
    "# Globals:\n",
    "#   None\n",
    "# Arguments:\n",
    "#   Single input argument\n",
    "# Outputs:\n",
    "#   Value of input argument\n",
    "# Returns:\n",
    "#   0 if successful, non-zero on error.\n",
    "#######################################\n",
    "function hello() {\n",
    "    echo \"Hello $1!\"\n",
    "}\n",
    "```"
   ]
  },
  {
   "cell_type": "markdown",
   "metadata": {},
   "source": [
    "### `exit`\n",
    "* An exit statement on the last line of a script is not necessary unless you want the script to terminate with some specific exit status, in which case you may want to use e.g. `exit 0` to signal \"success\" or `exit 1` to signal \"failure\", to the caller."
   ]
  },
  {
   "cell_type": "markdown",
   "metadata": {},
   "source": []
  }
 ],
 "metadata": {
  "kernelspec": {
   "display_name": "Python 3",
   "language": "python",
   "name": "python3"
  },
  "language_info": {
   "codemirror_mode": {
    "name": "ipython",
    "version": 3
   },
   "file_extension": ".py",
   "mimetype": "text/x-python",
   "name": "python",
   "nbconvert_exporter": "python",
   "pygments_lexer": "ipython3",
   "version": "3.12.4"
  }
 },
 "nbformat": 4,
 "nbformat_minor": 2
}
